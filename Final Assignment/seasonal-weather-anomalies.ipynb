{
 "cells": [
  {
   "cell_type": "code",
   "execution_count": 77,
   "metadata": {
    "tags": []
   },
   "outputs": [],
   "source": [
    "# read in pandas\n",
    "import pandas as pd\n",
    "\n",
    "# define filepath for data\n",
    "fp = r'/Users/admin/python-environments/Final Assignment/data/2315676.txt'\n",
    "\n",
    "# Read in data fro)m file\n",
    "# identify null values and skip the first row of empty data\n",
    "data = pd.read_csv(fp, sep='\\s+', na_values = -9999, skiprows = [1])\n",
    "\n",
    "# select rows of interest\n",
    "data = data[[\"DATE\", \"TAVG\", \"TMAX\", \"TMIN\"]]\n",
    "\n",
    "# create empty dataframe data\n",
    "data_w_TAVG = pd.DataFrame()\n",
    "\n",
    "# iterate across each for of data\n",
    "for key, row in data.iterrows():\n",
    "    #print(row[\"TAVG\"])\n",
    "            \n",
    "    # determine whether the value of TAVG is NaN\n",
    "    test = row[[\"TAVG\"]].isna()\n",
    "    \n",
    "    # conditional test to see if there is a missing values\n",
    "    if test[\"TAVG\"] == True:\n",
    "        \n",
    "        # if the average temp is missing a value, take the average from TMAX and TMIN\n",
    "        row[\"TAVG\"] = (row[\"TMAX\"] + row[\"TMIN\"])/2\n",
    "        \n",
    "    # for each iteration, create a row of data incluing the update TAVG if it was missing    \n",
    "    row = row.to_frame().transpose()\n",
    "          \n",
    "    # Add each for to the empty dataframe, data_w_TAVG    \n",
    "    data_w_TAVG = pd.concat([data_w_TAVG, row], ignore_index = True)\n",
    "        \n",
    "\n",
    "\n",
    "# select columns of interest\n",
    "\n",
    "\n",
    "# Calculate missing average values based on min and max values \n",
    "\n",
    "\n",
    "# convert temps in fahrenheit to to degrees celsius"
   ]
  },
  {
   "cell_type": "code",
   "execution_count": 79,
   "metadata": {},
   "outputs": [
    {
     "data": {
      "text/html": [
       "<div>\n",
       "<style scoped>\n",
       "    .dataframe tbody tr th:only-of-type {\n",
       "        vertical-align: middle;\n",
       "    }\n",
       "\n",
       "    .dataframe tbody tr th {\n",
       "        vertical-align: top;\n",
       "    }\n",
       "\n",
       "    .dataframe thead th {\n",
       "        text-align: right;\n",
       "    }\n",
       "</style>\n",
       "<table border=\"1\" class=\"dataframe\">\n",
       "  <thead>\n",
       "    <tr style=\"text-align: right;\">\n",
       "      <th></th>\n",
       "      <th>DATE</th>\n",
       "      <th>TAVG</th>\n",
       "      <th>TMAX</th>\n",
       "      <th>TMIN</th>\n",
       "    </tr>\n",
       "  </thead>\n",
       "  <tbody>\n",
       "    <tr>\n",
       "      <th>0</th>\n",
       "      <td>19080101.0</td>\n",
       "      <td>-17.5</td>\n",
       "      <td>2.0</td>\n",
       "      <td>-37.0</td>\n",
       "    </tr>\n",
       "    <tr>\n",
       "      <th>1</th>\n",
       "      <td>19080102.0</td>\n",
       "      <td>-10.0</td>\n",
       "      <td>6.0</td>\n",
       "      <td>-26.0</td>\n",
       "    </tr>\n",
       "    <tr>\n",
       "      <th>2</th>\n",
       "      <td>19080103.0</td>\n",
       "      <td>-10.0</td>\n",
       "      <td>7.0</td>\n",
       "      <td>-27.0</td>\n",
       "    </tr>\n",
       "    <tr>\n",
       "      <th>3</th>\n",
       "      <td>19080104.0</td>\n",
       "      <td>-15.0</td>\n",
       "      <td>-3.0</td>\n",
       "      <td>-27.0</td>\n",
       "    </tr>\n",
       "    <tr>\n",
       "      <th>4</th>\n",
       "      <td>19080105.0</td>\n",
       "      <td>-16.0</td>\n",
       "      <td>4.0</td>\n",
       "      <td>-36.0</td>\n",
       "    </tr>\n",
       "  </tbody>\n",
       "</table>\n",
       "</div>"
      ],
      "text/plain": [
       "         DATE  TAVG  TMAX  TMIN\n",
       "0  19080101.0 -17.5   2.0 -37.0\n",
       "1  19080102.0 -10.0   6.0 -26.0\n",
       "2  19080103.0 -10.0   7.0 -27.0\n",
       "3  19080104.0 -15.0  -3.0 -27.0\n",
       "4  19080105.0 -16.0   4.0 -36.0"
      ]
     },
     "execution_count": 79,
     "metadata": {},
     "output_type": "execute_result"
    }
   ],
   "source": [
    "data_w_TAVG.head()"
   ]
  },
  {
   "cell_type": "code",
   "execution_count": null,
   "metadata": {},
   "outputs": [],
   "source": []
  }
 ],
 "metadata": {
  "kernelspec": {
   "display_name": "Python 3 (ipykernel)",
   "language": "python",
   "name": "python3"
  },
  "language_info": {
   "codemirror_mode": {
    "name": "ipython",
    "version": 3
   },
   "file_extension": ".py",
   "mimetype": "text/x-python",
   "name": "python",
   "nbconvert_exporter": "python",
   "pygments_lexer": "ipython3",
   "version": "3.10.12"
  }
 },
 "nbformat": 4,
 "nbformat_minor": 4
}
